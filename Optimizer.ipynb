from pathlib import Path
import numpy as np
import pandas as pd
import datetime as dt
import math as mt

import openpyxl

import matplotlib.pyplot as plt
import seaborn as sns
#from scipy.signal import periodogram
#from statsmodels.graphics.tsaplots import plot_pacf

from scipy.optimize import minimize
#from sklearn.linear_model import LinearRegression
#from sklearn.preprocessing import StandardScaler
#scale = StandardScaler()
#from scipy import stats

from warnings import simplefilter
simplefilter("ignore")  # ignore warnings to clean up output cells
def productionPlanner(actualDemand, CBUInventory, lotSize, cbu_inv_req, bounds):
    prod = [0.] * (len(actualDemand)-1)
    demand = np.divide(actualDemand, lotSize)
    CBUInv = np.divide(CBUInventory, lotSize)
    
    for i in range(len(actualDemand)-2):
        objective_fun = lambda prod: prod[i]
        constraint = [{'type': 'ineq', 'fun': lambda prod: (prod[i]) - (- CBUInv[i] + demand[i] + demand[i+1]*cbu_inv_req[i+1])}]
        
        result = minimize(objective_fun,
                        prod,
                        bounds=bounds,
                        constraints=constraint)
        
        prod[i] = mt.ceil(result.fun)
        CBUInv[i+1] = prod[i] + CBUInv[i] - demand[i]

    order = np.array([0.] * (len(ckd)+3))
    production = np.multiply(ckd, lotSize)
    CBUInv = np.multiply(CBUInv, lotSize)

    for i in range(len(ckd)-3):
        order[i] = np.ceil((0.4*ckd[i+2])) +  + (ckd[i+3]-(np.ceil(0.4*ckd[i+3])))
    
    order[1] = order[1] + 1
    order[-1] = order[-1] - 1
    order = np.multiply(order, lotSize)

    return actualDemand, production, CBUInv, order
actualDemand = [0, 0, 0, 460, 690, 230, 440, 550, 660, 770]
CBUInventory = [0] * len(actualDemand)
lotSize = 100
bounds = [(0, 10)] * (len(actualDemand)-1)
cbu_inv_req = [.2] * len(actualDemand)

results = productionPlanner(actualDemand, startingInventory, lotSize, cbu_inv_req, bounds)
print("Sales Target", actualDemand, "\nProduction", production, "\nExtra CBU Inventory", CBUInv, "\nOrder Quantity", order)
